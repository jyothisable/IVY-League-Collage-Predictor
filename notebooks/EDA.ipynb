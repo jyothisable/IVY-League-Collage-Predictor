{
 "cells": [
  {
   "cell_type": "markdown",
   "metadata": {},
   "source": [
    "## 1. Intro to the Dataset and the Aim of the EDA\n",
    "\\<img src=\"notebooks/jamboree_logo.png\" alt=\"jamboree logo banner\" style=\"width: 800px;\"/>\n",
    "\n",
    "> Problem faced + why to solve (ask right question to stakeholders to make this clear)\n",
    "Jamboree has helped thousands of students like you make it to top colleges abroad. Be it GMAT, GRE or SAT, their unique problem-solving methods ensure maximum scores with minimum effort.\n",
    "\n",
    "Jamboree team wants to know what factors are important for a students success in getting into an IVY league college. They also want to see if we can make a predictive model to predict the chance of admission to IVY league college using the given features.\n",
    "\n",
    "**Dataset**\n",
    "\n",
    "This dataset contains the details of 500 students who have applied for admission to IVY league college along with their success rate.\n",
    "\n",
    "**Aim:** \n",
    "1. To anlyze what factors are important for a students success in getting into an IVY league college.\n",
    "2. To make a predictive model to predict the chance of admission to IVY league college using the given features.\n",
    "\n",
    "**Methods and Techniques used:** EDA, feature engineering, modeling using sklearn pipelines, hyperparameter tuning\n",
    "\n",
    "**Measure of Performance and Minimum Threshold to reach the business objective** : RMSE of 5% on predicted vs actual price\n",
    "\n",
    "**Assumptions**\n",
    "1. This fairly small dataset (500 entries) is representative of the real world population.\n",
    "2. The stability of data over time. "
   ]
  }
 ],
 "metadata": {
  "language_info": {
   "name": "python"
  }
 },
 "nbformat": 4,
 "nbformat_minor": 2
}
