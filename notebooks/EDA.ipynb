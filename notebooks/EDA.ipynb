{
 "cells": [
  {
   "cell_type": "markdown",
   "metadata": {},
   "source": [
    "# 1. Intro to the Dataset and the Aim of the EDA\n",
    "\\<img src=\"notebooks/jamboree_logo.png\" alt=\"jamboree logo banner\" style=\"width: 800px;\"/>\n",
    "\n",
    "> Problem faced + why to solve (ask right question to stakeholders to make this clear)\n",
    "Jamboree has helped thousands of students like you make it to top colleges abroad. Be it GMAT, GRE or SAT, their unique problem-solving methods ensure maximum scores with minimum effort.\n",
    "\n",
    "Jamboree team wants to know what factors are important for a students success in getting into an IVY league college. They also want to see if we can make a predictive model to predict the chance of admission to IVY league college using the given features.\n",
    "\n",
    "**Dataset**\n",
    "\n",
    "This dataset contains the details of 500 students who have applied for admission to IVY league college along with their success rate.\n",
    "\n",
    "**Aim:** \n",
    "1. To anlyze what factors are important for a students success in getting into an IVY league college.\n",
    "2. To make a predictive model to predict the chance of admission to IVY league college using the given features.\n",
    "\n",
    "**Methods and Techniques used:** EDA, feature engineering, modeling using sklearn pipelines, hyperparameter tuning\n",
    "\n",
    "**Measure of Performance and Minimum Threshold to reach the business objective** : RMSE of 5% on predicted vs actual price\n",
    "\n",
    "**Assumptions**\n",
    "1. This fairly small dataset (500 entries) is representative of the real world population.\n",
    "2. The stability of data over time. "
   ]
  },
  {
   "cell_type": "markdown",
   "metadata": {},
   "source": [
    "## 1.1 Library Setup"
   ]
  },
  {
   "cell_type": "code",
   "execution_count": 1,
   "metadata": {},
   "outputs": [],
   "source": [
    "# Scientific libraries\n",
    "import numpy as np\n",
    "import pandas as pd\n",
    "\n",
    "# Visual libraries\n",
    "import matplotlib.pyplot as plt\n",
    "import seaborn as sns\n",
    "\n",
    "# Helper libraries\n",
    "from tqdm.notebook import tqdm, trange # Progress bar\n",
    "#from colorama import Fore, Back, Style # coloured text in output\n",
    "import warnings \n",
    "#warnings.filterwarnings('ignore') # ignore all warkings\n",
    "\n",
    "# Visual setup\n",
    "%config InlineBackend.figure_format = 'retina' # sets the figure format to 'retina' for high-resolution displays.\n",
    "\n",
    "# Pandas options\n",
    "from IPython.core.interactiveshell import InteractiveShell\n",
    "InteractiveShell.ast_node_interactivity = 'all' # display all interaction \n",
    "\n",
    "# Table styles\n",
    "table_styles = {\n",
    "    'cerulean_palette': [\n",
    "        dict(selector=\"th\", props=[(\"color\", \"#FFFFFF\"), (\"background\", \"#004D80\"), (\"text-transform\", \"capitalize\")]),\n",
    "        dict(selector=\"td\", props=[(\"color\", \"#333333\")]),\n",
    "        dict(selector=\"table\", props=[(\"font-family\", 'Arial'), (\"border-collapse\", \"collapse\")]),\n",
    "        dict(selector='tr:nth-child(even)', props=[('background', '#D3EEFF')]),\n",
    "        dict(selector='tr:nth-child(odd)', props=[('background', '#FFFFFF')]),\n",
    "        dict(selector=\"th\", props=[(\"border\", \"1px solid #0070BA\")]),\n",
    "        dict(selector=\"td\", props=[(\"border\", \"1px solid #0070BA\")]),\n",
    "        dict(selector=\"tr:hover\", props=[(\"background\", \"#80D0FF\")]),\n",
    "        dict(selector=\"tr\", props=[(\"transition\", \"background 0.5s ease\")]),\n",
    "        dict(selector=\"th:hover\", props=[(\"font-size\", \"1.07rem\")]),\n",
    "        dict(selector=\"th\", props=[(\"transition\", \"font-size 0.5s ease-in-out\")]),\n",
    "        dict(selector=\"td:hover\", props=[('font-size', '1.07rem'),('font-weight', 'bold')]),\n",
    "        dict(selector=\"td\", props=[(\"transition\", \"font-size 0.5s ease-in-out\")])\n",
    "    ]\n",
    "}\n",
    "\n",
    "#from rich import print # color from print statement \n",
    "# Seed value for numpy.random => makes notebooks stable across runs\n",
    "np.random.seed(42)"
   ]
  },
  {
   "cell_type": "markdown",
   "metadata": {},
   "source": [
    "## 1.2 Read in the Data"
   ]
  },
  {
   "cell_type": "code",
   "execution_count": null,
   "metadata": {},
   "outputs": [],
   "source": []
  }
 ],
 "metadata": {
  "kernelspec": {
   "display_name": "base",
   "language": "python",
   "name": "python3"
  },
  "language_info": {
   "codemirror_mode": {
    "name": "ipython",
    "version": 3
   },
   "file_extension": ".py",
   "mimetype": "text/x-python",
   "name": "python",
   "nbconvert_exporter": "python",
   "pygments_lexer": "ipython3",
   "version": "3.11.7"
  }
 },
 "nbformat": 4,
 "nbformat_minor": 2
}
